{
 "cells": [
  {
   "cell_type": "code",
   "execution_count": 1,
   "id": "a1ddbd00",
   "metadata": {},
   "outputs": [],
   "source": [
    "import numpy as np \n",
    "import pandas as pd\n",
    "import matplotlib.pyplot as plt \n",
    "import seaborn as sns\n",
    "from sklearn.model_selection import train_test_split"
   ]
  },
  {
   "cell_type": "code",
   "execution_count": 2,
   "id": "33dc907a",
   "metadata": {},
   "outputs": [
    {
     "name": "stdout",
     "output_type": "stream",
     "text": [
      "   Age  SystolicBP  DiastolicBP    BS  BodyTemp  HeartRate  RiskLevel\n",
      "0   25         130           80  15.0      98.0         86  high risk\n",
      "1   35         140           90  13.0      98.0         70  high risk\n",
      "2   29          90           70   8.0     100.0         80  high risk\n",
      "3   30         140           85   7.0      98.0         70  high risk\n",
      "4   35         120           60   6.1      98.0         76   low risk\n"
     ]
    }
   ],
   "source": [
    "raw_data = pd.read_csv(\"C:\\\\Users\\\\Krishna Patel\\\\Downloads\\\\Maternal Health Risk Data Set.csv\")\n",
    "raw_data = pd.DataFrame(raw_data)\n",
    "print(raw_data.head())"
   ]
  },
  {
   "cell_type": "code",
   "execution_count": 3,
   "id": "581836e2",
   "metadata": {},
   "outputs": [
    {
     "data": {
      "text/html": [
       "<div>\n",
       "<style scoped>\n",
       "    .dataframe tbody tr th:only-of-type {\n",
       "        vertical-align: middle;\n",
       "    }\n",
       "\n",
       "    .dataframe tbody tr th {\n",
       "        vertical-align: top;\n",
       "    }\n",
       "\n",
       "    .dataframe thead th {\n",
       "        text-align: right;\n",
       "    }\n",
       "</style>\n",
       "<table border=\"1\" class=\"dataframe\">\n",
       "  <thead>\n",
       "    <tr style=\"text-align: right;\">\n",
       "      <th></th>\n",
       "      <th>Age</th>\n",
       "      <th>SystolicBP</th>\n",
       "      <th>DiastolicBP</th>\n",
       "      <th>BS</th>\n",
       "      <th>BodyTemp</th>\n",
       "      <th>HeartRate</th>\n",
       "    </tr>\n",
       "  </thead>\n",
       "  <tbody>\n",
       "    <tr>\n",
       "      <th>count</th>\n",
       "      <td>1014.000000</td>\n",
       "      <td>1014.000000</td>\n",
       "      <td>1014.000000</td>\n",
       "      <td>1014.000000</td>\n",
       "      <td>1014.000000</td>\n",
       "      <td>1014.000000</td>\n",
       "    </tr>\n",
       "    <tr>\n",
       "      <th>mean</th>\n",
       "      <td>29.871795</td>\n",
       "      <td>113.198225</td>\n",
       "      <td>76.460552</td>\n",
       "      <td>8.725986</td>\n",
       "      <td>98.665089</td>\n",
       "      <td>74.301775</td>\n",
       "    </tr>\n",
       "    <tr>\n",
       "      <th>std</th>\n",
       "      <td>13.474386</td>\n",
       "      <td>18.403913</td>\n",
       "      <td>13.885796</td>\n",
       "      <td>3.293532</td>\n",
       "      <td>1.371384</td>\n",
       "      <td>8.088702</td>\n",
       "    </tr>\n",
       "    <tr>\n",
       "      <th>min</th>\n",
       "      <td>10.000000</td>\n",
       "      <td>70.000000</td>\n",
       "      <td>49.000000</td>\n",
       "      <td>6.000000</td>\n",
       "      <td>98.000000</td>\n",
       "      <td>7.000000</td>\n",
       "    </tr>\n",
       "    <tr>\n",
       "      <th>25%</th>\n",
       "      <td>19.000000</td>\n",
       "      <td>100.000000</td>\n",
       "      <td>65.000000</td>\n",
       "      <td>6.900000</td>\n",
       "      <td>98.000000</td>\n",
       "      <td>70.000000</td>\n",
       "    </tr>\n",
       "    <tr>\n",
       "      <th>50%</th>\n",
       "      <td>26.000000</td>\n",
       "      <td>120.000000</td>\n",
       "      <td>80.000000</td>\n",
       "      <td>7.500000</td>\n",
       "      <td>98.000000</td>\n",
       "      <td>76.000000</td>\n",
       "    </tr>\n",
       "    <tr>\n",
       "      <th>75%</th>\n",
       "      <td>39.000000</td>\n",
       "      <td>120.000000</td>\n",
       "      <td>90.000000</td>\n",
       "      <td>8.000000</td>\n",
       "      <td>98.000000</td>\n",
       "      <td>80.000000</td>\n",
       "    </tr>\n",
       "    <tr>\n",
       "      <th>max</th>\n",
       "      <td>70.000000</td>\n",
       "      <td>160.000000</td>\n",
       "      <td>100.000000</td>\n",
       "      <td>19.000000</td>\n",
       "      <td>103.000000</td>\n",
       "      <td>90.000000</td>\n",
       "    </tr>\n",
       "  </tbody>\n",
       "</table>\n",
       "</div>"
      ],
      "text/plain": [
       "               Age   SystolicBP  DiastolicBP           BS     BodyTemp  \\\n",
       "count  1014.000000  1014.000000  1014.000000  1014.000000  1014.000000   \n",
       "mean     29.871795   113.198225    76.460552     8.725986    98.665089   \n",
       "std      13.474386    18.403913    13.885796     3.293532     1.371384   \n",
       "min      10.000000    70.000000    49.000000     6.000000    98.000000   \n",
       "25%      19.000000   100.000000    65.000000     6.900000    98.000000   \n",
       "50%      26.000000   120.000000    80.000000     7.500000    98.000000   \n",
       "75%      39.000000   120.000000    90.000000     8.000000    98.000000   \n",
       "max      70.000000   160.000000   100.000000    19.000000   103.000000   \n",
       "\n",
       "         HeartRate  \n",
       "count  1014.000000  \n",
       "mean     74.301775  \n",
       "std       8.088702  \n",
       "min       7.000000  \n",
       "25%      70.000000  \n",
       "50%      76.000000  \n",
       "75%      80.000000  \n",
       "max      90.000000  "
      ]
     },
     "execution_count": 3,
     "metadata": {},
     "output_type": "execute_result"
    }
   ],
   "source": [
    "raw_data.describe()"
   ]
  },
  {
   "cell_type": "code",
   "execution_count": 4,
   "id": "fb1d380b",
   "metadata": {},
   "outputs": [],
   "source": [
    "raw_data.rename(columns={'SystolicBP': 'upper_blood_pressure', 'DiastolicBP': 'lower_blood_pressure', 'BS' : 'blood_sugar'}, inplace=True)"
   ]
  },
  {
   "cell_type": "code",
   "execution_count": 5,
   "id": "fc8d36f5",
   "metadata": {},
   "outputs": [
    {
     "name": "stdout",
     "output_type": "stream",
     "text": [
      "   Age  upper_blood_pressure  lower_blood_pressure  blood_sugar  BodyTemp  \\\n",
      "0   25                   130                    80         15.0      98.0   \n",
      "1   35                   140                    90         13.0      98.0   \n",
      "2   29                    90                    70          8.0     100.0   \n",
      "3   30                   140                    85          7.0      98.0   \n",
      "4   35                   120                    60          6.1      98.0   \n",
      "\n",
      "   HeartRate  RiskLevel  \n",
      "0         86  high risk  \n",
      "1         70  high risk  \n",
      "2         80  high risk  \n",
      "3         70  high risk  \n",
      "4         76   low risk  \n"
     ]
    }
   ],
   "source": [
    "print(raw_data.head())"
   ]
  },
  {
   "cell_type": "code",
   "execution_count": 6,
   "id": "8438dd33",
   "metadata": {},
   "outputs": [
    {
     "data": {
      "text/plain": [
       "Age                     0\n",
       "upper_blood_pressure    0\n",
       "lower_blood_pressure    0\n",
       "blood_sugar             0\n",
       "BodyTemp                0\n",
       "HeartRate               0\n",
       "RiskLevel               0\n",
       "dtype: int64"
      ]
     },
     "execution_count": 6,
     "metadata": {},
     "output_type": "execute_result"
    }
   ],
   "source": [
    "missing_values = raw_data.isnull().sum()\n",
    "missing_values"
   ]
  },
  {
   "cell_type": "code",
   "execution_count": 7,
   "id": "f7b98c3a",
   "metadata": {},
   "outputs": [
    {
     "data": {
      "image/png": "[encoded data removed]",
      "text/plain": [
       "<Figure size 640x480 with 1 Axes>"
      ]
     },
     "metadata": {},
     "output_type": "display_data"
    }
   ],
   "source": [
    "sns.scatterplot(x=raw_data['Age'], y=raw_data['upper_blood_pressure'])\n",
    "plt.title('Scatter Plot for Outliers')\n",
    "plt.show()"
   ]
  },
  {
   "cell_type": "code",
   "execution_count": 8,
   "id": "21cf4d5a",
   "metadata": {},
   "outputs": [
    {
     "data": {
      "image/png": "[encoded data removed]",
      "text/plain": [
       "<Figure size 640x480 with 1 Axes>"
      ]
     },
     "metadata": {},
     "output_type": "display_data"
    }
   ],
   "source": [
    "sns.scatterplot(x=raw_data['Age'], y=raw_data['lower_blood_pressure'])\n",
    "plt.title('Scatter Plot for Outliers')\n",
    "plt.show()"
   ]
  },
  {
   "cell_type": "code",
   "execution_count": 9,
   "id": "667560a8",
   "metadata": {},
   "outputs": [
    {
     "data": {
      "image/png": "[encoded data removed]",
      "text/plain": [
       "<Figure size 640x480 with 1 Axes>"
      ]
     },
     "metadata": {},
     "output_type": "display_data"
    }
   ],
   "source": [
    "sns.scatterplot(x=raw_data['Age'], y=raw_data['blood_sugar'])\n",
    "plt.title('Scatter Plot for Outliers')\n",
    "plt.show()"
   ]
  },
  {
   "cell_type": "code",
   "execution_count": 10,
   "id": "0297d94e",
   "metadata": {},
   "outputs": [
    {
     "data": {
      "image/png": "[encoded data removed]",
      "text/plain": [
       "<Figure size 640x480 with 1 Axes>"
      ]
     },
     "metadata": {},
     "output_type": "display_data"
    }
   ],
   "source": [
    "sns.scatterplot(x=raw_data['Age'], y=raw_data['BodyTemp'])\n",
    "plt.title('Scatter Plot for Outliers')\n",
    "plt.show()"
   ]
  },
  {
   "cell_type": "code",
   "execution_count": 11,
   "id": "a1c9fc70",
   "metadata": {},
   "outputs": [
    {
     "data": {
      "image/png": "[encoded data removed]",
      "text/plain": [
       "<Figure size 640x480 with 1 Axes>"
      ]
     },
     "metadata": {},
     "output_type": "display_data"
    }
   ],
   "source": [
    "sns.scatterplot(x=raw_data['Age'], y=raw_data['HeartRate'])\n",
    "plt.title('Scatter Plot for Outliers')\n",
    "plt.show()"
   ]
  },
  {
   "cell_type": "code",
   "execution_count": 12,
   "id": "99fc14a7",
   "metadata": {},
   "outputs": [],
   "source": [
    "heartrate_mean = raw_data[\"HeartRate\"].sum() / raw_data[\"HeartRate\"].count()\n",
    "raw_data[\"heartrate_std_dev\"] = (( raw_data[\"HeartRate\"] - heartrate_mean ) ** 2 / raw_data[\"HeartRate\"].count() ) ** 0.5\n",
    "raw_data[\"heartrate_zscore\"] = ( raw_data[\"HeartRate\"] - heartrate_mean ) / raw_data[\"heartrate_std_dev\"]"
   ]
  },
  {
   "cell_type": "code",
   "execution_count": 13,
   "id": "5a7abbb9",
   "metadata": {},
   "outputs": [
    {
     "name": "stdout",
     "output_type": "stream",
     "text": [
      "0       31.843367\n",
      "1      -31.843367\n",
      "2       31.843367\n",
      "3      -31.843367\n",
      "4       31.843367\n",
      "          ...    \n",
      "1009    31.843367\n",
      "1010   -31.843367\n",
      "1011    31.843367\n",
      "1012   -31.843367\n",
      "1013    31.843367\n",
      "Name: heartrate_zscore, Length: 1014, dtype: float64\n"
     ]
    }
   ],
   "source": [
    "print(raw_data[\"heartrate_zscore\"])"
   ]
  },
  {
   "cell_type": "code",
   "execution_count": 14,
   "id": "8aaa6cfd",
   "metadata": {},
   "outputs": [],
   "source": [
    "upperbloodpressure_mean = raw_data[\"upper_blood_pressure\"].sum() / raw_data[\"upper_blood_pressure\"].count()\n",
    "raw_data[\"upperbloodpressure_std_dev\"] = (( raw_data[\"upper_blood_pressure\"] - upperbloodpressure_mean ) ** 2 / raw_data[\"upper_blood_pressure\"].count() ) ** 0.5\n",
    "raw_data[\"upparbloodpressure_zscore\"] = ( raw_data[\"upper_blood_pressure\"] - upperbloodpressure_mean ) / raw_data[\"upperbloodpressure_std_dev\"]"
   ]
  },
  {
   "cell_type": "code",
   "execution_count": 15,
   "id": "dabf75bd",
   "metadata": {},
   "outputs": [
    {
     "name": "stdout",
     "output_type": "stream",
     "text": [
      "0       31.843367\n",
      "1       31.843367\n",
      "2      -31.843367\n",
      "3       31.843367\n",
      "4       31.843367\n",
      "          ...    \n",
      "1009    31.843367\n",
      "1010    31.843367\n",
      "1011   -31.843367\n",
      "1012    31.843367\n",
      "1013    31.843367\n",
      "Name: upparbloodpressure_zscore, Length: 1014, dtype: float64\n"
     ]
    }
   ],
   "source": [
    "print(raw_data[\"upparbloodpressure_zscore\"])"
   ]
  },
  {
   "cell_type": "code",
   "execution_count": 16,
   "id": "1b061201",
   "metadata": {},
   "outputs": [],
   "source": [
    "no_outlier_data = raw_data[(raw_data['heartrate_zscore'] >= -31.843367) & (raw_data['heartrate_zscore'] <= 31.843367) & (raw_data['upparbloodpressure_zscore'] >= -31.843367) & (raw_data['upparbloodpressure_zscore'] <= 31.843367)]"
   ]
  },
  {
   "cell_type": "code",
   "execution_count": 17,
   "id": "146e9776",
   "metadata": {},
   "outputs": [
    {
     "data": {
      "text/plain": [
       "Age                           1014\n",
       "upper_blood_pressure          1014\n",
       "lower_blood_pressure          1014\n",
       "blood_sugar                   1014\n",
       "BodyTemp                      1014\n",
       "HeartRate                     1014\n",
       "RiskLevel                     1014\n",
       "heartrate_std_dev             1014\n",
       "heartrate_zscore              1014\n",
       "upperbloodpressure_std_dev    1014\n",
       "upparbloodpressure_zscore     1014\n",
       "dtype: int64"
      ]
     },
     "execution_count": 17,
     "metadata": {},
     "output_type": "execute_result"
    }
   ],
   "source": [
    "no_outlier_data.count()"
   ]
  },
  {
   "cell_type": "code",
   "execution_count": 18,
   "id": "f379a057",
   "metadata": {},
   "outputs": [
    {
     "data": {
      "text/plain": [
       "array(['high risk', 'low risk', 'mid risk'], dtype=object)"
      ]
     },
     "execution_count": 18,
     "metadata": {},
     "output_type": "execute_result"
    }
   ],
   "source": [
    "unique_values = no_outlier_data['RiskLevel'].unique()\n",
    "unique_values"
   ]
  },
  {
   "cell_type": "code",
   "execution_count": 19,
   "id": "edd56ea6",
   "metadata": {},
   "outputs": [],
   "source": [
    "no_outlier_data['RiskLevel'] = no_outlier_data['RiskLevel'].replace('high risk', 0)\n",
    "no_outlier_data[\"RiskLevel\"] = no_outlier_data['RiskLevel'].replace('mid risk', 1)\n",
    "no_outlier_data[\"RiskLevel\"] = no_outlier_data['RiskLevel'].replace('low risk', 2)"
   ]
  },
  {
   "cell_type": "code",
   "execution_count": 20,
   "id": "eeca5d48",
   "metadata": {},
   "outputs": [],
   "source": [
    "preprocessed_data = no_outlier_data"
   ]
  },
  {
   "cell_type": "code",
   "execution_count": 21,
   "id": "f5bb1b63",
   "metadata": {},
   "outputs": [],
   "source": [
    "X_slr = preprocessed_data['Age']\n",
    "y_slr = preprocessed_data['upper_blood_pressure']\n",
    "X_train_slr, X_test_slr, y_train_slr, y_test_slr = train_test_split(X_slr, y_slr, test_size=0.2, random_state=42)"
   ]
  },
  {
   "cell_type": "code",
   "execution_count": 22,
   "id": "9b23a122",
   "metadata": {},
   "outputs": [],
   "source": [
    "X = preprocessed_data.drop('RiskLevel', axis=1)  \n",
    "y = preprocessed_data['RiskLevel']  \n",
    "X_train, X_test, y_train, y_test = train_test_split(X, y, test_size=0.2, random_state=42)"
   ]
  },
  {
   "cell_type": "code",
   "execution_count": 23,
   "id": "328dcf47",
   "metadata": {},
   "outputs": [
    {
     "name": "stdout",
     "output_type": "stream",
     "text": [
      "0.568253306145643\n"
     ]
    }
   ],
   "source": [
    "xsqr_slr=np.power(X_slr,2)\n",
    "xmuly_slr=X_slr*y_slr\n",
    "sumofxmuly_slr = sum(xmuly_slr)\n",
    "sumxsqr_slr= sum(xsqr_slr)\n",
    "lenofx_slr = len(X_slr)\n",
    "sumofx_slr = sum(X_slr)\n",
    "sumofy_slr = sum(y_slr)\n",
    "\n",
    "slope = ((lenofx_slr *sumofxmuly_slr) - (sumofx_slr * sumofy_slr)) / ((lenofx_slr *sumxsqr_slr) - (sumofx_slr **2))\n",
    "print(slope)"
   ]
  },
  {
   "cell_type": "code",
   "execution_count": 24,
   "id": "63a12196",
   "metadata": {
    "scrolled": true
   },
   "outputs": [
    {
     "name": "stdout",
     "output_type": "stream",
     "text": [
      "96.22347865566911\n"
     ]
    }
   ],
   "source": [
    "intercept=((sumofy_slr * sumxsqr_slr) - (sumofx_slr * sumofxmuly_slr)) / ((lenofx_slr *sumxsqr_slr)-(sumofx_slr **2))\n",
    "print(intercept)"
   ]
  },
  {
   "cell_type": "code",
   "execution_count": 25,
   "id": "3dc86fd4",
   "metadata": {},
   "outputs": [],
   "source": [
    "blood_pressure = (slope * X_test_slr) + intercept"
   ]
  },
  {
   "cell_type": "code",
   "execution_count": 26,
   "id": "a1f37097",
   "metadata": {},
   "outputs": [
    {
     "name": "stdout",
     "output_type": "stream",
     "text": [
      "752    112.702825\n",
      "519    113.271078\n",
      "210    124.636144\n",
      "611    109.293305\n",
      "914    105.883785\n",
      "          ...    \n",
      "370    108.156798\n",
      "381    109.293305\n",
      "780    130.318677\n",
      "760    108.156798\n",
      "682    110.429811\n",
      "Name: Age, Length: 203, dtype: float64\n"
     ]
    }
   ],
   "source": [
    "print(blood_pressure)"
   ]
  },
  {
   "cell_type": "code",
   "execution_count": 27,
   "id": "5fd8033f",
   "metadata": {},
   "outputs": [
    {
     "name": "stdout",
     "output_type": "stream",
     "text": [
      "752    130\n",
      "519    140\n",
      "210    140\n",
      "611    120\n",
      "914    120\n",
      "      ... \n",
      "370     75\n",
      "381    120\n",
      "780     90\n",
      "760     90\n",
      "682    140\n",
      "Name: upper_blood_pressure, Length: 203, dtype: int64\n"
     ]
    }
   ],
   "source": [
    "print(y_test_slr)"
   ]
  },
  {
   "cell_type": "code",
   "execution_count": 28,
   "id": "951e2f17",
   "metadata": {},
   "outputs": [
    {
     "name": "stdout",
     "output_type": "stream",
     "text": [
      "14.390519672546137\n"
     ]
    }
   ],
   "source": [
    "mae_slr = np.mean(np.abs(y_test_slr - blood_pressure))\n",
    "print(mae_slr)"
   ]
  },
  {
   "cell_type": "code",
   "execution_count": 29,
   "id": "6b096430",
   "metadata": {},
   "outputs": [
    {
     "name": "stdout",
     "output_type": "stream",
     "text": [
      "Slope (m): 0.6172563967570499\n",
      "Intercept (b): 94.96340316540467\n"
     ]
    },
    {
     "data": {
      "text/plain": [
       "array([112.86383867, 113.48109507, 125.826223  , 109.16030029,\n",
       "       105.45676191, 113.48109507, 119.03640264, 105.45676191,\n",
       "       125.826223  , 102.37047993, 128.29524859, 108.54304389,\n",
       "       107.9257875 , 108.54304389, 112.86383867, 128.91250499,\n",
       "       110.39481308, 110.39481308, 107.9257875 , 112.86383867,\n",
       "       106.6912747 , 106.07401831, 116.56737705, 121.50542823,\n",
       "       104.83950551, 114.09835146, 110.39481308, 131.99878697,\n",
       "       126.4434794 , 108.54304389, 105.45676191, 119.65365904,\n",
       "       104.22224912, 107.9257875 , 131.99878697, 128.91250499,\n",
       "       119.65365904, 131.99878697, 108.54304389, 119.65365904,\n",
       "       125.826223  , 106.07401831, 117.18463345, 116.56737705,\n",
       "       106.6912747 , 111.01206948, 110.39481308, 112.86383867,\n",
       "       109.16030029, 114.71560786, 114.71560786, 109.77755669,\n",
       "       109.16030029, 110.39481308, 106.6912747 , 113.48109507,\n",
       "       110.39481308, 107.9257875 , 107.3085311 , 108.54304389,\n",
       "       114.71560786, 108.54304389, 106.6912747 , 131.99878697,\n",
       "       106.07401831, 124.59171021, 121.50542823, 128.91250499,\n",
       "       110.39481308, 105.45676191, 116.56737705, 111.62932588,\n",
       "       128.91250499, 107.3085311 , 114.71560786, 124.59171021,\n",
       "       104.83950551, 120.88817183, 119.65365904, 109.16030029,\n",
       "       106.6912747 , 102.37047993, 116.56737705, 116.56737705,\n",
       "       101.13596713, 106.6912747 , 104.22224912, 105.45676191,\n",
       "       124.59171021, 106.6912747 , 110.39481308, 112.24658227,\n",
       "       104.83950551, 110.39481308, 106.6912747 , 104.22224912,\n",
       "       106.6912747 , 112.24658227, 128.91250499, 106.6912747 ,\n",
       "       102.37047993, 113.48109507, 116.56737705, 107.3085311 ,\n",
       "       106.6912747 , 112.86383867, 104.22224912, 108.54304389,\n",
       "       107.9257875 , 109.16030029, 113.48109507, 114.09835146,\n",
       "       108.54304389, 114.71560786, 131.99878697, 131.99878697,\n",
       "       109.16030029, 125.826223  , 102.37047993, 119.65365904,\n",
       "       105.45676191, 125.20896661, 109.16030029, 106.6912747 ,\n",
       "       119.65365904, 119.65365904, 106.6912747 , 107.9257875 ,\n",
       "       102.37047993, 102.37047993, 128.91250499, 128.91250499,\n",
       "       115.33286426, 109.16030029, 104.22224912, 108.54304389,\n",
       "       125.826223  , 106.6912747 , 112.24658227, 114.09835146,\n",
       "       119.65365904, 110.39481308, 110.39481308, 108.54304389,\n",
       "       107.9257875 , 109.16030029, 124.59171021, 131.99878697,\n",
       "       104.83950551, 106.6912747 , 109.16030029, 107.9257875 ,\n",
       "       110.39481308, 112.86383867, 105.45676191, 105.45676191,\n",
       "       109.16030029, 131.99878697, 109.16030029, 128.91250499,\n",
       "       104.22224912, 108.54304389, 107.9257875 , 114.71560786,\n",
       "       120.88817183, 112.86383867, 122.12268462, 128.91250499,\n",
       "       104.22224912, 106.6912747 , 125.826223  , 120.27091543,\n",
       "       101.13596713, 131.99878697, 108.54304389, 119.65365904,\n",
       "       112.86383867, 102.37047993, 104.22224912, 131.99878697,\n",
       "       112.86383867, 108.54304389, 112.86383867, 129.52976138,\n",
       "       125.826223  , 107.3085311 , 117.80188985, 112.24658227,\n",
       "       125.20896661, 105.45676191, 112.86383867, 131.99878697,\n",
       "       106.07401831, 113.48109507, 112.24658227, 119.65365904,\n",
       "       102.37047993, 128.91250499, 107.9257875 , 109.16030029,\n",
       "       131.99878697, 107.9257875 , 110.39481308])"
      ]
     },
     "execution_count": 29,
     "metadata": {},
     "output_type": "execute_result"
    }
   ],
   "source": [
    "import numpy as np\n",
    "from sklearn.linear_model import LinearRegression\n",
    "import matplotlib.pyplot as plt\n",
    "\n",
    "X_train_slr = np.array(X_train_slr).reshape(-1, 1)\n",
    "# Create a linear regression model\n",
    "model = LinearRegression()\n",
    "\n",
    "# Fit the model to the data\n",
    "model.fit(X_train_slr, y_train_slr)\n",
    "X_test_slr = np.array(X_test_slr).reshape(-1, 1)\n",
    "# Make predictions\n",
    "y_pred = model.predict(X_test_slr)\n",
    "\n",
    "# Print the coefficients\n",
    "print(f\"Slope (m): {model.coef_[0]}\")\n",
    "print(f\"Intercept (b): {model.intercept_}\")\n",
    "\n",
    "y_pred"
   ]
  },
  {
   "cell_type": "code",
   "execution_count": 30,
   "id": "f4d680bc",
   "metadata": {},
   "outputs": [
    {
     "name": "stdout",
     "output_type": "stream",
     "text": [
      "Mean Absolute Error (MAE): 14.420607282438727\n"
     ]
    }
   ],
   "source": [
    "from sklearn.metrics import mean_absolute_error\n",
    "mae = mean_absolute_error(y_test_slr, y_pred)\n",
    "print(f\"Mean Absolute Error (MAE): {mae}\")"
   ]
  },
  {
   "cell_type": "code",
   "execution_count": 31,
   "id": "a45b0def",
   "metadata": {},
   "outputs": [],
   "source": [
    "selected_test = ['Age', 'upper_blood_pressure', 'lower_blood_pressure', 'blood_sugar', 'BodyTemp', 'HeartRate']\n",
    "X_test = X_test[selected_test]"
   ]
  },
  {
   "cell_type": "code",
   "execution_count": 32,
   "id": "80a4d521",
   "metadata": {},
   "outputs": [],
   "source": [
    "x_train_selected_columns = ['Age', 'upper_blood_pressure', 'lower_blood_pressure', 'blood_sugar', 'BodyTemp', 'HeartRate']\n",
    "X_train = X_train[x_train_selected_columns]"
   ]
  },
  {
   "cell_type": "code",
   "execution_count": 33,
   "id": "2955bdda",
   "metadata": {},
   "outputs": [
    {
     "name": "stdout",
     "output_type": "stream",
     "text": [
      "Coefficients: [ 9.80794534e-05 -1.17311484e-02 -3.06885525e-04 -1.14466684e-01\n",
      " -1.74050763e-01 -1.10151686e-02]\n",
      "Intercept: 21.47657450029802\n",
      "Mean Squared Error (MSE): 0.33687711028595607\n",
      "R-squared (R2): 0.43777867982447916\n"
     ]
    }
   ],
   "source": [
    "import numpy as np\n",
    "from sklearn.model_selection import train_test_split\n",
    "from sklearn.linear_model import LinearRegression\n",
    "from sklearn.metrics import mean_squared_error, r2_score\n",
    "import pandas as pd\n",
    "\n",
    "# Create a linear regression model\n",
    "model = LinearRegression()\n",
    "\n",
    "# Fit the model to the training data\n",
    "model.fit(X_train, y_train)\n",
    "\n",
    "# Make predictions on the testing data\n",
    "Y_pred = model.predict(X_test)\n",
    "\n",
    "# Evaluate the model\n",
    "mse = mean_squared_error(y_test, Y_pred)\n",
    "r2 = r2_score(y_test, Y_pred)\n",
    "\n",
    "# Print the coefficients and evaluation metrics\n",
    "print(\"Coefficients:\", model.coef_)\n",
    "print(\"Intercept:\", model.intercept_)\n",
    "print(\"Mean Squared Error (MSE):\", mse)\n",
    "print(\"R-squared (R2):\", r2)\n"
   ]
  },
  {
   "cell_type": "code",
   "execution_count": 34,
   "id": "73477c90",
   "metadata": {},
   "outputs": [
    {
     "data": {
      "image/png": "[encoded data removed]",
      "text/plain": [
       "<Figure size 640x480 with 1 Axes>"
      ]
     },
     "metadata": {},
     "output_type": "display_data"
    },
    {
     "data": {
      "image/png": "[encoded data removed]",
      "text/plain": [
       "<Figure size 640x480 with 1 Axes>"
      ]
     },
     "metadata": {},
     "output_type": "display_data"
    }
   ],
   "source": [
    "import matplotlib.pyplot as plt\n",
    "\n",
    "# Plotting the actual vs predicted values\n",
    "plt.scatter(y_test, Y_pred)\n",
    "plt.xlabel(\"Actual Values\")\n",
    "plt.ylabel(\"Predicted Values\")\n",
    "plt.title(\"Actual vs Predicted Values for Linear Regression Model\")\n",
    "plt.show()\n",
    "\n",
    "residuals = y_test - Y_pred\n",
    "\n",
    "plt.scatter(y_test, residuals)\n",
    "plt.axhline(y=0, color='r', linestyle='--', linewidth=2)\n",
    "plt.xlabel(\"Actual Values\")\n",
    "plt.ylabel(\"Residuals\")\n",
    "plt.title(\"Residual Plot for Linear Regression Model\")\n",
    "plt.show()"
   ]
  },
  {
   "cell_type": "code",
   "execution_count": 35,
   "id": "4c9596fa",
   "metadata": {
    "scrolled": true
   },
   "outputs": [
    {
     "data": {
      "text/html": [
       "<div>\n",
       "<style scoped>\n",
       "    .dataframe tbody tr th:only-of-type {\n",
       "        vertical-align: middle;\n",
       "    }\n",
       "\n",
       "    .dataframe tbody tr th {\n",
       "        vertical-align: top;\n",
       "    }\n",
       "\n",
       "    .dataframe thead th {\n",
       "        text-align: right;\n",
       "    }\n",
       "</style>\n",
       "<table border=\"1\" class=\"dataframe\">\n",
       "  <thead>\n",
       "    <tr style=\"text-align: right;\">\n",
       "      <th></th>\n",
       "      <th>Age</th>\n",
       "      <th>upper_blood_pressure</th>\n",
       "      <th>lower_blood_pressure</th>\n",
       "      <th>blood_sugar</th>\n",
       "      <th>BodyTemp</th>\n",
       "      <th>HeartRate</th>\n",
       "      <th>y</th>\n",
       "    </tr>\n",
       "  </thead>\n",
       "  <tbody>\n",
       "    <tr>\n",
       "      <th>847</th>\n",
       "      <td>30</td>\n",
       "      <td>120</td>\n",
       "      <td>80</td>\n",
       "      <td>9.0</td>\n",
       "      <td>101.0</td>\n",
       "      <td>76</td>\n",
       "      <td>1</td>\n",
       "    </tr>\n",
       "    <tr>\n",
       "      <th>332</th>\n",
       "      <td>23</td>\n",
       "      <td>130</td>\n",
       "      <td>70</td>\n",
       "      <td>6.9</td>\n",
       "      <td>98.0</td>\n",
       "      <td>70</td>\n",
       "      <td>1</td>\n",
       "    </tr>\n",
       "    <tr>\n",
       "      <th>707</th>\n",
       "      <td>32</td>\n",
       "      <td>120</td>\n",
       "      <td>90</td>\n",
       "      <td>6.9</td>\n",
       "      <td>98.0</td>\n",
       "      <td>70</td>\n",
       "      <td>1</td>\n",
       "    </tr>\n",
       "    <tr>\n",
       "      <th>218</th>\n",
       "      <td>31</td>\n",
       "      <td>120</td>\n",
       "      <td>60</td>\n",
       "      <td>6.1</td>\n",
       "      <td>98.0</td>\n",
       "      <td>76</td>\n",
       "      <td>1</td>\n",
       "    </tr>\n",
       "    <tr>\n",
       "      <th>425</th>\n",
       "      <td>35</td>\n",
       "      <td>100</td>\n",
       "      <td>60</td>\n",
       "      <td>15.0</td>\n",
       "      <td>98.0</td>\n",
       "      <td>80</td>\n",
       "      <td>0</td>\n",
       "    </tr>\n",
       "    <tr>\n",
       "      <th>...</th>\n",
       "      <td>...</td>\n",
       "      <td>...</td>\n",
       "      <td>...</td>\n",
       "      <td>...</td>\n",
       "      <td>...</td>\n",
       "      <td>...</td>\n",
       "      <td>...</td>\n",
       "    </tr>\n",
       "    <tr>\n",
       "      <th>106</th>\n",
       "      <td>50</td>\n",
       "      <td>140</td>\n",
       "      <td>90</td>\n",
       "      <td>15.0</td>\n",
       "      <td>98.0</td>\n",
       "      <td>90</td>\n",
       "      <td>0</td>\n",
       "    </tr>\n",
       "    <tr>\n",
       "      <th>270</th>\n",
       "      <td>22</td>\n",
       "      <td>120</td>\n",
       "      <td>90</td>\n",
       "      <td>7.0</td>\n",
       "      <td>98.0</td>\n",
       "      <td>82</td>\n",
       "      <td>2</td>\n",
       "    </tr>\n",
       "    <tr>\n",
       "      <th>860</th>\n",
       "      <td>17</td>\n",
       "      <td>90</td>\n",
       "      <td>63</td>\n",
       "      <td>6.9</td>\n",
       "      <td>101.0</td>\n",
       "      <td>70</td>\n",
       "      <td>1</td>\n",
       "    </tr>\n",
       "    <tr>\n",
       "      <th>435</th>\n",
       "      <td>65</td>\n",
       "      <td>130</td>\n",
       "      <td>80</td>\n",
       "      <td>15.0</td>\n",
       "      <td>98.0</td>\n",
       "      <td>86</td>\n",
       "      <td>0</td>\n",
       "    </tr>\n",
       "    <tr>\n",
       "      <th>102</th>\n",
       "      <td>48</td>\n",
       "      <td>140</td>\n",
       "      <td>90</td>\n",
       "      <td>15.0</td>\n",
       "      <td>98.0</td>\n",
       "      <td>90</td>\n",
       "      <td>0</td>\n",
       "    </tr>\n",
       "  </tbody>\n",
       "</table>\n",
       "<p>811 rows × 7 columns</p>\n",
       "</div>"
      ],
      "text/plain": [
       "     Age  upper_blood_pressure  lower_blood_pressure  blood_sugar  BodyTemp  \\\n",
       "847   30                   120                    80          9.0     101.0   \n",
       "332   23                   130                    70          6.9      98.0   \n",
       "707   32                   120                    90          6.9      98.0   \n",
       "218   31                   120                    60          6.1      98.0   \n",
       "425   35                   100                    60         15.0      98.0   \n",
       "..   ...                   ...                   ...          ...       ...   \n",
       "106   50                   140                    90         15.0      98.0   \n",
       "270   22                   120                    90          7.0      98.0   \n",
       "860   17                    90                    63          6.9     101.0   \n",
       "435   65                   130                    80         15.0      98.0   \n",
       "102   48                   140                    90         15.0      98.0   \n",
       "\n",
       "     HeartRate  y  \n",
       "847         76  1  \n",
       "332         70  1  \n",
       "707         70  1  \n",
       "218         76  1  \n",
       "425         80  0  \n",
       "..         ... ..  \n",
       "106         90  0  \n",
       "270         82  2  \n",
       "860         70  1  \n",
       "435         86  0  \n",
       "102         90  0  \n",
       "\n",
       "[811 rows x 7 columns]"
      ]
     },
     "execution_count": 35,
     "metadata": {},
     "output_type": "execute_result"
    }
   ],
   "source": [
    "from collections import Counter\n",
    "from sklearn.metrics import classification_report\n",
    "from sklearn.linear_model import LogisticRegression\n",
    "\n",
    "X_train_logistic = pd.DataFrame(X_train)\n",
    "X_train_logistic['y'] = y_train\n",
    "X_train_logistic"
   ]
  },
  {
   "cell_type": "code",
   "execution_count": 36,
   "id": "0faef597",
   "metadata": {},
   "outputs": [
    {
     "data": {
      "text/plain": [
       "847    1\n",
       "332    1\n",
       "707    1\n",
       "218    1\n",
       "425    0\n",
       "      ..\n",
       "106    0\n",
       "270    2\n",
       "860    1\n",
       "435    0\n",
       "102    0\n",
       "Name: y, Length: 811, dtype: int64"
      ]
     },
     "execution_count": 36,
     "metadata": {},
     "output_type": "execute_result"
    }
   ],
   "source": [
    "X_train_logistic['y']"
   ]
  },
  {
   "cell_type": "code",
   "execution_count": 38,
   "id": "520ad01a",
   "metadata": {},
   "outputs": [],
   "source": [
    "from collections import Counter\n",
    "import numpy as np\n",
    "from sklearn import datasets\n",
    "from sklearn.metrics import classification_report\n",
    "from sklearn.linear_model import LogisticRegression\n",
    "from sklearn.preprocessing import LabelBinarizer\n",
    "\n",
    "learning_rate = 0.1\n",
    "n_iter = 500\n",
    "ws,bs = [],[]\n",
    "encoder = LabelBinarizer()\n",
    "y_oh = encoder.fit_transform(y)\n",
    "y = X_train_logistic['y']\n",
    "\n",
    "predict = lambda x, w, b: np.matmul(w,x.T) + b\n",
    "sigmoid = lambda yhat: 1/(1+np.exp(-yhat))\n",
    "loss = lambda y, sig: -(y * np.log(sig))+(1-y * np.log(1-sig)).mean()\n",
    "# dldw = lambda x, y, sig: (np.reshape(sig-y,(x.shape[0],1))*x).mean(axis = 0)\n",
    "# dldw = lambda x, y, sig: (np.reshape(sig - y, (x.shape[0], 1)) * x).mean(axis=0)\n",
    "# dldb = lambda y, sig: (sig-y).mean(axis = 0)\n",
    "dldw = lambda x, y, sig: np.dot((np.reshape(sig - X_train_logistic['y'], (1, -1))), x).mean(axis=0)\n",
    "dldb = lambda y, sig: np.mean(np.reshape(sig - y, (1, -1)))\n",
    "update = lambda w, grad, lr: w - (grad * lr)\n",
    "\n",
    "for c in range(len(Counter(y))):\n",
    "    b = 0\n",
    "    w = np.zeros(X_train.shape[1])\n",
    "    for i in range(n_iter):\n",
    "        yhat = predict(X_train, w, b)\n",
    "        sig = sigmoid(yhat)\n",
    "        grad_w = dldw(X_train, y_oh[:, c], sig)\n",
    "        grad_b = dldb(y_oh[:, c], sig)\n",
    "        w = update(w, grad_w, learning_rate)\n",
    "        \n",
    "        # Update bias without broadcasting\n",
    "        b -= np.mean(grad_b) * learning_rate\n",
    "        \n",
    "    ws.append(w)\n",
    "    bs.append(b)"
   ]
  },
  {
   "cell_type": "code",
   "execution_count": 39,
   "id": "39744814",
   "metadata": {
    "scrolled": true
   },
   "outputs": [],
   "source": [
    "sigs = []\n",
    "for c in range(len(Counter(y))):\n",
    "    yhat = predict(X_test,ws[c],bs[c])\n",
    "    sig = sigmoid(yhat)\n",
    "    sigs.append(sig)\n",
    "y_pred = np.argmax(sigs,axis = 0)"
   ]
  },
  {
   "cell_type": "code",
   "execution_count": 40,
   "id": "e7acfc6d",
   "metadata": {
    "scrolled": true
   },
   "outputs": [
    {
     "name": "stdout",
     "output_type": "stream",
     "text": [
      "              precision    recall  f1-score   support\n",
      "\n",
      "           0       0.23      1.00      0.38        47\n",
      "           1       0.00      0.00      0.00        76\n",
      "           2       0.00      0.00      0.00        80\n",
      "\n",
      "    accuracy                           0.23       203\n",
      "   macro avg       0.08      0.33      0.13       203\n",
      "weighted avg       0.05      0.23      0.09       203\n",
      "\n"
     ]
    },
    {
     "name": "stderr",
     "output_type": "stream",
     "text": [
      "D:\\installed softwares\\python\\lib\\site-packages\\sklearn\\metrics\\_classification.py:1344: UndefinedMetricWarning: Precision and F-score are ill-defined and being set to 0.0 in labels with no predicted samples. Use `zero_division` parameter to control this behavior.\n",
      "  _warn_prf(average, modifier, msg_start, len(result))\n",
      "D:\\installed softwares\\python\\lib\\site-packages\\sklearn\\metrics\\_classification.py:1344: UndefinedMetricWarning: Precision and F-score are ill-defined and being set to 0.0 in labels with no predicted samples. Use `zero_division` parameter to control this behavior.\n",
      "  _warn_prf(average, modifier, msg_start, len(result))\n",
      "D:\\installed softwares\\python\\lib\\site-packages\\sklearn\\metrics\\_classification.py:1344: UndefinedMetricWarning: Precision and F-score are ill-defined and being set to 0.0 in labels with no predicted samples. Use `zero_division` parameter to control this behavior.\n",
      "  _warn_prf(average, modifier, msg_start, len(result))\n"
     ]
    }
   ],
   "source": [
    "classRep = classification_report(y_test,y_pred)\n",
    "print(classRep)"
   ]
  },
  {
   "cell_type": "code",
   "execution_count": 41,
   "id": "902b14c3",
   "metadata": {},
   "outputs": [
    {
     "name": "stdout",
     "output_type": "stream",
     "text": [
      "Accuracy: 0.6600985221674877\n",
      "Classification Report:\n",
      "              precision    recall  f1-score   support\n",
      "\n",
      "           0       0.81      0.81      0.81        47\n",
      "           1       0.63      0.34      0.44        76\n",
      "           2       0.61      0.88      0.72        80\n",
      "\n",
      "    accuracy                           0.66       203\n",
      "   macro avg       0.68      0.68      0.66       203\n",
      "weighted avg       0.66      0.66      0.64       203\n",
      "\n"
     ]
    },
    {
     "name": "stderr",
     "output_type": "stream",
     "text": [
      "D:\\installed softwares\\python\\lib\\site-packages\\sklearn\\linear_model\\_logistic.py:458: ConvergenceWarning: lbfgs failed to converge (status=1):\n",
      "STOP: TOTAL NO. of ITERATIONS REACHED LIMIT.\n",
      "\n",
      "Increase the number of iterations (max_iter) or scale the data as shown in:\n",
      "    https://scikit-learn.org/stable/modules/preprocessing.html\n",
      "Please also refer to the documentation for alternative solver options:\n",
      "    https://scikit-learn.org/stable/modules/linear_model.html#logistic-regression\n",
      "  n_iter_i = _check_optimize_result(\n"
     ]
    }
   ],
   "source": [
    "from sklearn.linear_model import LogisticRegression\n",
    "from sklearn.metrics import accuracy_score, classification_report\n",
    "from sklearn.model_selection import train_test_split\n",
    "from sklearn.preprocessing import LabelBinarizer\n",
    "\n",
    "# Logistic Regression using scikit-learn\n",
    "lr_classifier = LogisticRegression(max_iter=500)\n",
    "lr_classifier.fit(X_train, y_train)\n",
    "\n",
    "# Make predictions on the test set\n",
    "y_pred = lr_classifier.predict(X_test)\n",
    "\n",
    "# Evaluate the performance\n",
    "accuracy = accuracy_score(y_test, y_pred)\n",
    "print(\"Accuracy:\", accuracy)\n",
    "\n",
    "# Print classification report\n",
    "print(\"Classification Report:\")\n",
    "print(classification_report(y_test, y_pred))"
   ]
  },
  {
   "cell_type": "code",
   "execution_count": 42,
   "id": "2a87133c",
   "metadata": {
    "scrolled": true
   },
   "outputs": [
    {
     "name": "stdout",
     "output_type": "stream",
     "text": [
      "2\n",
      "[[ 30.  120.   80.    9.  101.   76. ]\n",
      " [ 23.  130.   70.    6.9  98.   70. ]\n",
      " [ 32.  120.   90.    6.9  98.   70. ]\n",
      " ...\n",
      " [ 17.   90.   63.    6.9 101.   70. ]\n",
      " [ 65.  130.   80.   15.   98.   86. ]\n",
      " [ 48.  140.   90.   15.   98.   90. ]]\n"
     ]
    }
   ],
   "source": [
    "# Make a copy of the DataFrame\n",
    "df_kmeans = X_train_logistic.copy()\n",
    "\n",
    "# Remove the last column\n",
    "df_kmeans = df_kmeans.iloc[:, :-1]\n",
    "\n",
    "# Convert DataFrame to NumPy array\n",
    "kmeans_training_array = df_kmeans.values\n",
    "print(kmeans_training_array.ndim)\n",
    "\n",
    "print(kmeans_training_array)"
   ]
  },
  {
   "cell_type": "code",
   "execution_count": 43,
   "id": "1336dfaa",
   "metadata": {
    "scrolled": true
   },
   "outputs": [
    {
     "name": "stderr",
     "output_type": "stream",
     "text": [
      "D:\\installed softwares\\python\\lib\\site-packages\\sklearn\\cluster\\_kmeans.py:870: FutureWarning: The default value of `n_init` will change from 10 to 'auto' in 1.4. Set the value of `n_init` explicitly to suppress the warning\n",
      "  warnings.warn(\n"
     ]
    },
    {
     "name": "stdout",
     "output_type": "stream",
     "text": [
      "Cluster Labels: [1 1 1 1 2 1 1 0 1 2 1 1 2 1 2 1 1 0 0 1 2 2 1 1 2 0 1 1 1 2 1 0 1 1 1 2 2\n",
      " 2 1 2 1 1 0 1 2 1 1 1 0 2 2 1 2 2 0 0 0 2 1 2 1 2 0 1 1 2 1 1 2 1 1 0 1 2\n",
      " 2 0 1 2 2 1 1 2 2 0 2 0 1 2 1 1 1 1 1 0 1 2 2 0 1 1 0 1 0 0 2 2 1 2 2 2 0\n",
      " 2 0 1 2 1 1 1 2 1 1 0 1 1 0 1 0 2 1 1 2 2 0 1 2 2 0 1 2 0 1 2 1 2 1 0 0 2\n",
      " 1 2 1 1 1 1 1 1 1 0 2 1 2 0 0 0 2 2 1 0 2 1 2 2 1 1 1 2 1 2 1 1 0 1 2 1 0\n",
      " 1 1 1 1 2 0 1 0 2 2 1 0 1 2 2 1 2 1 2 1 1 2 0 0 1 1 1 1 2 1 2 1 0 1 2 1 2\n",
      " 2 2 2 1 2 2 1 2 1 2 1 1 1 1 1 2 1 1 1 2 1 1 2 2 1 2 0 1 0 0 1 2 1 2 1 0 1\n",
      " 1 1 1 0 2 0 1 2 2 1 2 0 1 2 1 1 0 0 0 1 2 1 0 0 2 1 1 2 1 1 2 0 2 1 1 0 1\n",
      " 2 1 1 1 1 2 0 0 2 0 2 1 1 0 1 1 1 1 2 1 1 1 1 0 1 2 1 1 2 1 0 1 1 2 1 1 1\n",
      " 1 1 0 2 1 1 1 1 1 1 1 1 1 1 1 1 0 1 2 1 1 0 1 1 2 1 1 1 0 1 1 1 1 2 1 0 0\n",
      " 1 2 1 2 1 0 0 0 1 2 1 1 2 2 1 1 2 0 2 2 1 2 2 1 2 1 1 0 1 1 2 1 2 2 1 1 0\n",
      " 1 0 1 1 2 1 1 1 1 1 2 1 1 2 2 1 1 1 0 1 1 0 0 2 0 1 2 1 1 1 2 1 1 1 2 1 1\n",
      " 2 2 2 1 1 1 0 0 1 1 1 2 1 2 1 1 1 0 1 1 1 2 2 2 2 2 2 2 2 1 1 2 1 2 1 1 2\n",
      " 0 1 1 1 1 1 0 1 2 1 0 1 1 2 1 1 2 2 2 1 1 0 2 1 1 2 1 0 1 0 0 2 0 2 2 0 1\n",
      " 2 1 2 2 2 1 0 1 1 1 0 1 1 0 1 2 1 0 2 1 2 0 0 1 1 2 1 0 0 1 1 1 2 2 1 2 2\n",
      " 1 2 2 1 2 1 1 2 2 2 2 1 2 2 1 1 1 1 2 0 0 1 2 1 2 0 2 1 2 1 2 2 2 0 1 1 1\n",
      " 1 2 0 2 2 1 2 1 0 0 2 1 1 2 2 1 2 1 2 1 1 2 2 2 1 1 2 2 2 1 2 2 2 1 2 1 2\n",
      " 2 2 2 1 0 0 1 0 1 1 0 2 0 0 1 2 1 1 2 2 1 1 0 1 1 1 1 1 0 2 1 1 2 1 0 2 2\n",
      " 0 0 0 1 2 1 2 1 1 2 0 2 0 1 1 2 1 2 0 1 2 0 1 1 1 1 1 2 2 1 1 1 1 1 1 1 2\n",
      " 2 2 2 2 1 0 1 2 1 1 2 0 1 1 2 2 1 1 2 1 1 0 1 2 2 2 1 2 2 1 1 1 1 0 1 2 2\n",
      " 0 1 2 1 1 0 1 0 0 1 2 1 0 1 0 1 1 2 1 2 1 0 0 2 2 1 1 1 0 2 2 2 1 0 2 1 1\n",
      " 1 1 1 2 0 2 2 1 0 1 2 1 1 2 0 2 1 1 0 2 2 1 2 1 0 0 0 1 1 0 1 2 0 0]\n",
      "Centroids: [[ 1.19014486  0.99234814  0.98060957  1.87314046 -0.43395082  0.46062378]\n",
      " [ 0.01624118  0.35825988  0.31828331 -0.46128441 -0.32574672 -0.32169986]\n",
      " [-0.69267271 -1.10647195 -1.0385477  -0.34318822  0.74328608  0.23515896]]\n"
     ]
    }
   ],
   "source": [
    "from sklearn.cluster import KMeans\n",
    "\n",
    "# Make a copy of the DataFrame\n",
    "df_kmeans = X_train_logistic.copy()\n",
    "\n",
    "# Remove the last column\n",
    "df_kmeans = df_kmeans.iloc[:, :-1]\n",
    "\n",
    "# Convert DataFrame to NumPy array\n",
    "kmeans_training_array = df_kmeans.values\n",
    "\n",
    "# Normalize data (optional but recommended for k-means)\n",
    "kmeans_training_array = (kmeans_training_array - np.mean(kmeans_training_array, axis=0)) / np.std(kmeans_training_array, axis=0)\n",
    "\n",
    "# Set the number of clusters (k)\n",
    "k = 3\n",
    "\n",
    "# Create KMeans instance\n",
    "kmeans = KMeans(n_clusters=k, random_state=42)\n",
    "\n",
    "# Fit the model to your data\n",
    "kmeans.fit(kmeans_training_array)\n",
    "\n",
    "# Get cluster labels for each data point\n",
    "labels = kmeans.labels_\n",
    "\n",
    "# Get the centroids of the clusters\n",
    "centroids = kmeans.cluster_centers_\n",
    "\n",
    "# Print the cluster labels and centroids\n",
    "print(\"Cluster Labels:\", labels)\n",
    "print(\"Centroids:\", centroids)\n"
   ]
  },
  {
   "cell_type": "code",
   "execution_count": 44,
   "id": "a5475122",
   "metadata": {
    "scrolled": true
   },
   "outputs": [
    {
     "name": "stdout",
     "output_type": "stream",
     "text": [
      "Silhouette Score: 0.3777456105549888\n"
     ]
    },
    {
     "name": "stderr",
     "output_type": "stream",
     "text": [
      "D:\\installed softwares\\python\\lib\\site-packages\\sklearn\\cluster\\_kmeans.py:870: FutureWarning: The default value of `n_init` will change from 10 to 'auto' in 1.4. Set the value of `n_init` explicitly to suppress the warning\n",
      "  warnings.warn(\n",
      "D:\\installed softwares\\python\\lib\\site-packages\\sklearn\\cluster\\_kmeans.py:870: FutureWarning: The default value of `n_init` will change from 10 to 'auto' in 1.4. Set the value of `n_init` explicitly to suppress the warning\n",
      "  warnings.warn(\n"
     ]
    },
    {
     "name": "stdout",
     "output_type": "stream",
     "text": [
      "Inertia: 238497.8420204849\n"
     ]
    }
   ],
   "source": [
    "from sklearn.metrics import silhouette_score\n",
    "\n",
    "# Assuming you have your data and labels\n",
    "kmeans = KMeans(n_clusters=3)\n",
    "labels = kmeans.fit_predict(X_train_logistic)\n",
    "\n",
    "silhouette_avg = silhouette_score(X_train_logistic, labels)\n",
    "print(\"Silhouette Score:\", silhouette_avg)\n",
    "\n",
    "from sklearn.cluster import KMeans\n",
    "\n",
    "# Assuming you have your data in 'data'\n",
    "kmeans = KMeans(n_clusters=3)\n",
    "kmeans.fit(X_train_logistic)\n",
    "\n",
    "inertia = kmeans.inertia_\n",
    "print(\"Inertia:\", inertia)"
   ]
  },
  {
   "cell_type": "code",
   "execution_count": 45,
   "id": "87214257",
   "metadata": {},
   "outputs": [
    {
     "data": {
      "text/plain": [
       "847    1\n",
       "332    1\n",
       "707    1\n",
       "218    1\n",
       "425    0\n",
       "      ..\n",
       "106    0\n",
       "270    2\n",
       "860    1\n",
       "435    0\n",
       "102    0\n",
       "Name: y, Length: 811, dtype: int64"
      ]
     },
     "execution_count": 45,
     "metadata": {},
     "output_type": "execute_result"
    }
   ],
   "source": [
    "y"
   ]
  },
  {
   "cell_type": "code",
   "execution_count": 46,
   "id": "e46d6799",
   "metadata": {},
   "outputs": [
    {
     "name": "stdout",
     "output_type": "stream",
     "text": [
      "Accuracy: 0.6196319018404908\n",
      "Classification Report:\n",
      "              precision    recall  f1-score   support\n",
      "\n",
      "           0       0.75      0.82      0.78        44\n",
      "           1       0.42      0.32      0.37        53\n",
      "           2       0.64      0.73      0.68        66\n",
      "\n",
      "    accuracy                           0.62       163\n",
      "   macro avg       0.60      0.62      0.61       163\n",
      "weighted avg       0.60      0.62      0.61       163\n",
      "\n"
     ]
    }
   ],
   "source": [
    "from sklearn.model_selection import train_test_split\n",
    "from sklearn.svm import SVC\n",
    "from sklearn.metrics import accuracy_score, classification_report\n",
    "\n",
    "# Make a copy of the DataFrame\n",
    "df_svm = X_train_logistic.copy()\n",
    "\n",
    "# Remove the last column\n",
    "df_svm = df_svm.iloc[:, :-1]\n",
    "\n",
    "# Convert DataFrame to NumPy array\n",
    "svm_training_array = df_svm.values\n",
    "\n",
    "# Normalize data (optional but recommended for SVM)\n",
    "svm_training_array = (svm_training_array - np.mean(svm_training_array, axis=0)) / np.std(svm_training_array, axis=0)\n",
    "\n",
    "# Split the data into training and testing sets\n",
    "X_train, X_test, y_train, y_test = train_test_split(svm_training_array, y, test_size=0.2, random_state=42)\n",
    "\n",
    "# Create an SVM classifier\n",
    "svm_classifier = SVC(kernel='linear', C=1.0, random_state=42)\n",
    "\n",
    "# Train the SVM classifier\n",
    "svm_classifier.fit(X_train, y_train)\n",
    "\n",
    "# Make predictions on the test set\n",
    "y_pred = svm_classifier.predict(X_test)\n",
    "\n",
    "# Evaluate the performance\n",
    "accuracy = accuracy_score(y_test, y_pred)\n",
    "print(\"Accuracy:\", accuracy)\n",
    "\n",
    "# Print classification report\n",
    "print(\"Classification Report:\")\n",
    "print(classification_report(y_test, y_pred))\n"
   ]
  },
  {
   "cell_type": "code",
   "execution_count": null,
   "id": "2999b5f2",
   "metadata": {},
   "outputs": [],
   "source": []
  },
  {
   "cell_type": "code",
   "execution_count": null,
   "id": "25090944",
   "metadata": {},
   "outputs": [],
   "source": []
  }
 ],
 "metadata": {
  "kernelspec": {
   "display_name": "Python 3 (ipykernel)",
   "language": "python",
   "name": "python3"
  },
  "language_info": {
   "codemirror_mode": {
    "name": "ipython",
    "version": 3
   },
   "file_extension": ".py",
   "mimetype": "text/x-python",
   "name": "python",
   "nbconvert_exporter": "python",
   "pygments_lexer": "ipython3",
   "version": "3.10.11"
  }
 },
 "nbformat": 4,
 "nbformat_minor": 5
}
